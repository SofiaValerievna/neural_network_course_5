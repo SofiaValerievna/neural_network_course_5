{
 "cells": [
  {
   "cell_type": "markdown",
   "id": "c634c059",
   "metadata": {},
   "source": [
    "Практическое задание № 5. "
   ]
  },
  {
   "cell_type": "markdown",
   "id": "38bace2b",
   "metadata": {},
   "source": [
    "Шаг 1. Загрузка данных\n",
    "1.1. Используйте набор данных, содержащий последовательные данные (например, временные ряды, текстовые последовательности или любые другие данные, содержащие последовательную структуру)."
   ]
  },
  {
   "cell_type": "code",
   "execution_count": 1,
   "id": "96ccaf47",
   "metadata": {},
   "outputs": [
    {
     "name": "stdout",
     "output_type": "stream",
     "text": [
      "WARNING:tensorflow:From C:\\Users\\Sofia\\anaconda3\\Lib\\site-packages\\keras\\src\\losses.py:2976: The name tf.losses.sparse_softmax_cross_entropy is deprecated. Please use tf.compat.v1.losses.sparse_softmax_cross_entropy instead.\n",
      "\n"
     ]
    }
   ],
   "source": [
    "import tensorflow as tf\n",
    "from tensorflow.keras.models import Sequential\n",
    "from tensorflow.keras.layers import SimpleRNN, Dense\n",
    "from tensorflow.keras.optimizers import Adam\n",
    "import numpy as np"
   ]
  },
  {
   "cell_type": "code",
   "execution_count": 2,
   "id": "277324af",
   "metadata": {},
   "outputs": [],
   "source": [
    "# Шаг 1: Загрузка данных\n",
    "# Пример: последовательность чисел от 1 до 100\n",
    "data = np.arange(1, 101, 1)"
   ]
  },
  {
   "cell_type": "markdown",
   "id": "c4d29877",
   "metadata": {},
   "source": [
    "1.2. Загрузите данные и подготовьте их для использования в модели RNN."
   ]
  },
  {
   "cell_type": "code",
   "execution_count": 4,
   "id": "2e8b8010",
   "metadata": {},
   "outputs": [],
   "source": [
    "# Создаем последовательные наборы данных для ввода и вывода RNN\n",
    "input_sequence = [data[i:i+5] for i in range(len(data)-5)]\n",
    "output_sequence = [data[i+5] for i in range(len(data)-5)]"
   ]
  },
  {
   "cell_type": "code",
   "execution_count": 5,
   "id": "2d2b9ef0",
   "metadata": {},
   "outputs": [],
   "source": [
    "# Преобразуем данные в массивы NumPy\n",
    "X = np.array(input_sequence).reshape(-1, 5, 1)\n",
    "y = np.array(output_sequence)"
   ]
  },
  {
   "cell_type": "markdown",
   "id": "e6ebe192",
   "metadata": {},
   "source": [
    "Шаг 2. Создание рекуррентной нейронной сети (RNN)\n",
    "\n",
    "2.1. Импортируйте необходимые библиотеки, такие как TensorFlow и Keras."
   ]
  },
  {
   "cell_type": "code",
   "execution_count": 6,
   "id": "a416fc04",
   "metadata": {},
   "outputs": [
    {
     "name": "stdout",
     "output_type": "stream",
     "text": [
      "WARNING:tensorflow:From C:\\Users\\Sofia\\anaconda3\\Lib\\site-packages\\keras\\src\\backend.py:873: The name tf.get_default_graph is deprecated. Please use tf.compat.v1.get_default_graph instead.\n",
      "\n"
     ]
    }
   ],
   "source": [
    "model = Sequential()\n",
    "model.add(SimpleRNN(50, activation='relu', input_shape=(5, 1)))\n",
    "model.add(Dense(1))"
   ]
  },
  {
   "cell_type": "markdown",
   "id": "bcdaed02",
   "metadata": {},
   "source": [
    "Шаг 3. Обучение RNN"
   ]
  },
  {
   "cell_type": "code",
   "execution_count": 7,
   "id": "68f3021d",
   "metadata": {},
   "outputs": [
    {
     "name": "stdout",
     "output_type": "stream",
     "text": [
      "Epoch 1/50\n",
      "WARNING:tensorflow:From C:\\Users\\Sofia\\anaconda3\\Lib\\site-packages\\keras\\src\\utils\\tf_utils.py:492: The name tf.ragged.RaggedTensorValue is deprecated. Please use tf.compat.v1.ragged.RaggedTensorValue instead.\n",
      "\n",
      "95/95 [==============================] - 7s 5ms/step - loss: 583.5588\n",
      "Epoch 2/50\n",
      "95/95 [==============================] - 1s 7ms/step - loss: 1.3941\n",
      "Epoch 3/50\n",
      "95/95 [==============================] - 1s 7ms/step - loss: 1.3471\n",
      "Epoch 4/50\n",
      "95/95 [==============================] - 1s 5ms/step - loss: 1.2088\n",
      "Epoch 5/50\n",
      "95/95 [==============================] - 1s 6ms/step - loss: 1.1814\n",
      "Epoch 6/50\n",
      "95/95 [==============================] - 1s 5ms/step - loss: 1.0462\n",
      "Epoch 7/50\n",
      "95/95 [==============================] - 1s 5ms/step - loss: 0.9930\n",
      "Epoch 8/50\n",
      "95/95 [==============================] - 1s 5ms/step - loss: 0.9370\n",
      "Epoch 9/50\n",
      "95/95 [==============================] - 0s 5ms/step - loss: 0.8891\n",
      "Epoch 10/50\n",
      "95/95 [==============================] - 1s 6ms/step - loss: 0.7511\n",
      "Epoch 11/50\n",
      "95/95 [==============================] - 1s 6ms/step - loss: 0.7880\n",
      "Epoch 12/50\n",
      "95/95 [==============================] - 1s 8ms/step - loss: 0.7214\n",
      "Epoch 13/50\n",
      "95/95 [==============================] - 1s 8ms/step - loss: 0.7492\n",
      "Epoch 14/50\n",
      "95/95 [==============================] - 1s 7ms/step - loss: 0.4683\n",
      "Epoch 15/50\n",
      "95/95 [==============================] - 1s 8ms/step - loss: 0.4695\n",
      "Epoch 16/50\n",
      "95/95 [==============================] - 1s 9ms/step - loss: 0.4123\n",
      "Epoch 17/50\n",
      "95/95 [==============================] - 1s 6ms/step - loss: 0.4637\n",
      "Epoch 18/50\n",
      "95/95 [==============================] - 1s 6ms/step - loss: 0.2937\n",
      "Epoch 19/50\n",
      "95/95 [==============================] - 1s 7ms/step - loss: 0.3246\n",
      "Epoch 20/50\n",
      "95/95 [==============================] - 1s 8ms/step - loss: 0.2117\n",
      "Epoch 21/50\n",
      "95/95 [==============================] - 1s 8ms/step - loss: 0.2455\n",
      "Epoch 22/50\n",
      "95/95 [==============================] - 1s 8ms/step - loss: 0.1031\n",
      "Epoch 23/50\n",
      "95/95 [==============================] - 1s 7ms/step - loss: 0.1501\n",
      "Epoch 24/50\n",
      "95/95 [==============================] - 1s 7ms/step - loss: 0.0543\n",
      "Epoch 25/50\n",
      "95/95 [==============================] - 1s 7ms/step - loss: 0.0434\n",
      "Epoch 26/50\n",
      "95/95 [==============================] - 1s 8ms/step - loss: 0.0344\n",
      "Epoch 27/50\n",
      "95/95 [==============================] - 1s 7ms/step - loss: 0.0328\n",
      "Epoch 28/50\n",
      "95/95 [==============================] - 1s 7ms/step - loss: 0.0262\n",
      "Epoch 29/50\n",
      "95/95 [==============================] - 1s 8ms/step - loss: 0.0451\n",
      "Epoch 30/50\n",
      "95/95 [==============================] - 1s 7ms/step - loss: 0.0085\n",
      "Epoch 31/50\n",
      "95/95 [==============================] - 1s 6ms/step - loss: 0.0087\n",
      "Epoch 32/50\n",
      "95/95 [==============================] - 1s 8ms/step - loss: 0.0047\n",
      "Epoch 33/50\n",
      "95/95 [==============================] - 1s 6ms/step - loss: 0.0081\n",
      "Epoch 34/50\n",
      "95/95 [==============================] - 1s 7ms/step - loss: 0.0045\n",
      "Epoch 35/50\n",
      "95/95 [==============================] - 1s 8ms/step - loss: 0.0040\n",
      "Epoch 36/50\n",
      "95/95 [==============================] - 1s 7ms/step - loss: 0.0155\n",
      "Epoch 37/50\n",
      "95/95 [==============================] - 1s 6ms/step - loss: 0.0335\n",
      "Epoch 38/50\n",
      "95/95 [==============================] - 1s 7ms/step - loss: 0.0095\n",
      "Epoch 39/50\n",
      "95/95 [==============================] - 1s 8ms/step - loss: 0.0253\n",
      "Epoch 40/50\n",
      "95/95 [==============================] - 1s 8ms/step - loss: 0.0222\n",
      "Epoch 41/50\n",
      "95/95 [==============================] - 1s 7ms/step - loss: 0.2833\n",
      "Epoch 42/50\n",
      "95/95 [==============================] - 1s 7ms/step - loss: 0.0343\n",
      "Epoch 43/50\n",
      "95/95 [==============================] - 1s 7ms/step - loss: 0.0679\n",
      "Epoch 44/50\n",
      "95/95 [==============================] - 1s 8ms/step - loss: 0.0838\n",
      "Epoch 45/50\n",
      "95/95 [==============================] - 1s 11ms/step - loss: 0.0120\n",
      "Epoch 46/50\n",
      "95/95 [==============================] - 1s 7ms/step - loss: 1.4212\n",
      "Epoch 47/50\n",
      "95/95 [==============================] - 1s 7ms/step - loss: 0.0564\n",
      "Epoch 48/50\n",
      "95/95 [==============================] - 1s 7ms/step - loss: 0.0198\n",
      "Epoch 49/50\n",
      "95/95 [==============================] - 1s 7ms/step - loss: 0.0187\n",
      "Epoch 50/50\n",
      "95/95 [==============================] - 1s 7ms/step - loss: 0.2772\n"
     ]
    },
    {
     "data": {
      "text/plain": [
       "<keras.src.callbacks.History at 0x1f6b7704110>"
      ]
     },
     "execution_count": 7,
     "metadata": {},
     "output_type": "execute_result"
    }
   ],
   "source": [
    "model.compile(optimizer=Adam(), loss='mean_squared_error')\n",
    "model.fit(X, y, epochs=50, batch_size=1)\n"
   ]
  },
  {
   "cell_type": "markdown",
   "id": "29641792",
   "metadata": {},
   "source": [
    "Шаг 4. Оценка производительности модели RNN"
   ]
  },
  {
   "cell_type": "code",
   "execution_count": 8,
   "id": "6168d80c",
   "metadata": {},
   "outputs": [],
   "source": [
    "test_data = np.arange(101, 111, 1)\n",
    "X_test = np.array([test_data[i:i+5] for i in range(len(test_data)-5)])\n",
    "y_test = np.array([test_data[i+5] for i in range(len(test_data)-5)])\n"
   ]
  },
  {
   "cell_type": "code",
   "execution_count": 9,
   "id": "b1ab5f94",
   "metadata": {},
   "outputs": [
    {
     "name": "stdout",
     "output_type": "stream",
     "text": [
      "1/1 [==============================] - 1s 874ms/step\n",
      "Среднеквадратичная ошибка на тестовых данных: 0.4387305185664445\n"
     ]
    }
   ],
   "source": [
    "# Предсказание на тестовых данных\n",
    "predictions = model.predict(X_test.reshape(-1, 5, 1))\n",
    "\n",
    "# Оценка производительности\n",
    "mse = np.mean((predictions.flatten() - y_test) ** 2)\n",
    "print(\"Среднеквадратичная ошибка на тестовых данных:\", mse)"
   ]
  },
  {
   "cell_type": "markdown",
   "id": "aaa45731",
   "metadata": {},
   "source": [
    "Значение MSE равное 0.4387 на тестовых данных говорит о том, что модель довольно точно предсказывает следующее число в последовательности. Однако, так как это относительная метрика, её интерпретация может зависеть от контекста поставленной задачи."
   ]
  },
  {
   "cell_type": "code",
   "execution_count": null,
   "id": "ef29e8e1",
   "metadata": {},
   "outputs": [],
   "source": []
  }
 ],
 "metadata": {
  "kernelspec": {
   "display_name": "Python 3 (ipykernel)",
   "language": "python",
   "name": "python3"
  },
  "language_info": {
   "codemirror_mode": {
    "name": "ipython",
    "version": 3
   },
   "file_extension": ".py",
   "mimetype": "text/x-python",
   "name": "python",
   "nbconvert_exporter": "python",
   "pygments_lexer": "ipython3",
   "version": "3.11.5"
  },
  "toc": {
   "base_numbering": 1,
   "nav_menu": {},
   "number_sections": true,
   "sideBar": true,
   "skip_h1_title": false,
   "title_cell": "Table of Contents",
   "title_sidebar": "Contents",
   "toc_cell": false,
   "toc_position": {},
   "toc_section_display": true,
   "toc_window_display": false
  }
 },
 "nbformat": 4,
 "nbformat_minor": 5
}
